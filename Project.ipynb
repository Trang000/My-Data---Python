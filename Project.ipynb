{
  "nbformat": 4,
  "nbformat_minor": 5,
  "metadata": {
    "kernelspec": {
      "display_name": "Python 3",
      "language": "python",
      "name": "python3"
    },
    "language_info": {
      "codemirror_mode": {
        "name": "ipython",
        "version": 3
      },
      "file_extension": ".py",
      "mimetype": "text/x-python",
      "name": "python",
      "nbconvert_exporter": "python",
      "pygments_lexer": "ipython3",
      "version": "3.8.8"
    },
    "colab": {
      "name": "Project.ipynb",
      "provenance": [],
      "collapsed_sections": [],
      "include_colab_link": true
    }
  },
  "cells": [
    {
      "cell_type": "markdown",
      "metadata": {
        "id": "view-in-github",
        "colab_type": "text"
      },
      "source": [
        "<a href=\"https://colab.research.google.com/github/Trang000/My-Data---Python/blob/main/Project.ipynb\" target=\"_parent\"><img src=\"https://colab.research.google.com/assets/colab-badge.svg\" alt=\"Open In Colab\"/></a>"
      ]
    },
    {
      "cell_type": "code",
      "metadata": {
        "id": "fc359565"
      },
      "source": [
        "import pandas as pd\n",
        "\n",
        "import numpy as np\n",
        "import matplotlib.pyplot as plt"
      ],
      "id": "fc359565",
      "execution_count": 9,
      "outputs": []
    },
    {
      "cell_type": "code",
      "metadata": {
        "id": "eba55890"
      },
      "source": [
        "data = pd.read_csv(\"/content/SuicidesIndia.csv\")"
      ],
      "id": "eba55890",
      "execution_count": 10,
      "outputs": []
    },
    {
      "cell_type": "code",
      "metadata": {
        "id": "78a296b8",
        "colab": {
          "base_uri": "https://localhost:8080/",
          "height": 417
        },
        "outputId": "b9bfd959-ab85-49a0-bdd3-6c234e9b26b0"
      },
      "source": [
        "data"
      ],
      "id": "78a296b8",
      "execution_count": 11,
      "outputs": [
        {
          "output_type": "execute_result",
          "data": {
            "text/html": [
              "<div>\n",
              "<style scoped>\n",
              "    .dataframe tbody tr th:only-of-type {\n",
              "        vertical-align: middle;\n",
              "    }\n",
              "\n",
              "    .dataframe tbody tr th {\n",
              "        vertical-align: top;\n",
              "    }\n",
              "\n",
              "    .dataframe thead th {\n",
              "        text-align: right;\n",
              "    }\n",
              "</style>\n",
              "<table border=\"1\" class=\"dataframe\">\n",
              "  <thead>\n",
              "    <tr style=\"text-align: right;\">\n",
              "      <th></th>\n",
              "      <th>State</th>\n",
              "      <th>Year</th>\n",
              "      <th>Type_code</th>\n",
              "      <th>Type</th>\n",
              "      <th>Gender</th>\n",
              "      <th>Age_group</th>\n",
              "      <th>Total</th>\n",
              "    </tr>\n",
              "  </thead>\n",
              "  <tbody>\n",
              "    <tr>\n",
              "      <th>0</th>\n",
              "      <td>Total (All India)</td>\n",
              "      <td>2012</td>\n",
              "      <td>Social_Status</td>\n",
              "      <td>Married</td>\n",
              "      <td>Male</td>\n",
              "      <td>0-100+</td>\n",
              "      <td>63343.0</td>\n",
              "    </tr>\n",
              "    <tr>\n",
              "      <th>1</th>\n",
              "      <td>Total (All India)</td>\n",
              "      <td>2011</td>\n",
              "      <td>Social_Status</td>\n",
              "      <td>Married</td>\n",
              "      <td>Male</td>\n",
              "      <td>0-100+</td>\n",
              "      <td>62433.0</td>\n",
              "    </tr>\n",
              "    <tr>\n",
              "      <th>2</th>\n",
              "      <td>Total (States)</td>\n",
              "      <td>2012</td>\n",
              "      <td>Social_Status</td>\n",
              "      <td>Married</td>\n",
              "      <td>Male</td>\n",
              "      <td>0-100+</td>\n",
              "      <td>62123.0</td>\n",
              "    </tr>\n",
              "    <tr>\n",
              "      <th>3</th>\n",
              "      <td>Total (All India)</td>\n",
              "      <td>2010</td>\n",
              "      <td>Social_Status</td>\n",
              "      <td>Married</td>\n",
              "      <td>Male</td>\n",
              "      <td>0-100+</td>\n",
              "      <td>61453.0</td>\n",
              "    </tr>\n",
              "    <tr>\n",
              "      <th>4</th>\n",
              "      <td>Total (States)</td>\n",
              "      <td>2011</td>\n",
              "      <td>Social_Status</td>\n",
              "      <td>Married</td>\n",
              "      <td>Male</td>\n",
              "      <td>0-100+</td>\n",
              "      <td>61242.0</td>\n",
              "    </tr>\n",
              "    <tr>\n",
              "      <th>...</th>\n",
              "      <td>...</td>\n",
              "      <td>...</td>\n",
              "      <td>...</td>\n",
              "      <td>...</td>\n",
              "      <td>...</td>\n",
              "      <td>...</td>\n",
              "      <td>...</td>\n",
              "    </tr>\n",
              "    <tr>\n",
              "      <th>196816</th>\n",
              "      <td>Meghalaya</td>\n",
              "      <td>2003</td>\n",
              "      <td>Means_adopted</td>\n",
              "      <td>By Consuming Insecticides</td>\n",
              "      <td>Male</td>\n",
              "      <td>30-44</td>\n",
              "      <td>0.0</td>\n",
              "    </tr>\n",
              "    <tr>\n",
              "      <th>196817</th>\n",
              "      <td>Meghalaya</td>\n",
              "      <td>2003</td>\n",
              "      <td>Means_adopted</td>\n",
              "      <td>By Jumping from (Building)</td>\n",
              "      <td>Male</td>\n",
              "      <td>30-44</td>\n",
              "      <td>0.0</td>\n",
              "    </tr>\n",
              "    <tr>\n",
              "      <th>196818</th>\n",
              "      <td>Meghalaya</td>\n",
              "      <td>2003</td>\n",
              "      <td>Means_adopted</td>\n",
              "      <td>By Overdose of sleeping pills</td>\n",
              "      <td>Male</td>\n",
              "      <td>30-44</td>\n",
              "      <td>0.0</td>\n",
              "    </tr>\n",
              "    <tr>\n",
              "      <th>196819</th>\n",
              "      <td>Meghalaya</td>\n",
              "      <td>2003</td>\n",
              "      <td>Means_adopted</td>\n",
              "      <td>By Self Infliction of injury</td>\n",
              "      <td>Male</td>\n",
              "      <td>30-44</td>\n",
              "      <td>0.0</td>\n",
              "    </tr>\n",
              "    <tr>\n",
              "      <th>196820</th>\n",
              "      <td>Meghalaya</td>\n",
              "      <td>2003</td>\n",
              "      <td>Means_adopted</td>\n",
              "      <td>By Other means (please specify)</td>\n",
              "      <td>Female</td>\n",
              "      <td>NaN</td>\n",
              "      <td>NaN</td>\n",
              "    </tr>\n",
              "  </tbody>\n",
              "</table>\n",
              "<p>196821 rows × 7 columns</p>\n",
              "</div>"
            ],
            "text/plain": [
              "                    State  Year      Type_code  ...  Gender Age_group    Total\n",
              "0       Total (All India)  2012  Social_Status  ...    Male    0-100+  63343.0\n",
              "1       Total (All India)  2011  Social_Status  ...    Male    0-100+  62433.0\n",
              "2          Total (States)  2012  Social_Status  ...    Male    0-100+  62123.0\n",
              "3       Total (All India)  2010  Social_Status  ...    Male    0-100+  61453.0\n",
              "4          Total (States)  2011  Social_Status  ...    Male    0-100+  61242.0\n",
              "...                   ...   ...            ...  ...     ...       ...      ...\n",
              "196816          Meghalaya  2003  Means_adopted  ...    Male     30-44      0.0\n",
              "196817          Meghalaya  2003  Means_adopted  ...    Male     30-44      0.0\n",
              "196818          Meghalaya  2003  Means_adopted  ...    Male     30-44      0.0\n",
              "196819          Meghalaya  2003  Means_adopted  ...    Male     30-44      0.0\n",
              "196820          Meghalaya  2003  Means_adopted  ...  Female       NaN      NaN\n",
              "\n",
              "[196821 rows x 7 columns]"
            ]
          },
          "metadata": {},
          "execution_count": 11
        }
      ]
    },
    {
      "cell_type": "code",
      "metadata": {
        "scrolled": true,
        "id": "06f84e74",
        "colab": {
          "base_uri": "https://localhost:8080/"
        },
        "outputId": "3819a77e-9cb5-4af7-cbc4-9adc8c0f80da"
      },
      "source": [
        "list(data[\"Type_code\"].unique())"
      ],
      "id": "06f84e74",
      "execution_count": 12,
      "outputs": [
        {
          "output_type": "execute_result",
          "data": {
            "text/plain": [
              "['Social_Status',\n",
              " 'Education_Status',\n",
              " 'Professional_Profile',\n",
              " 'Means_adopted',\n",
              " 'Causes']"
            ]
          },
          "metadata": {},
          "execution_count": 12
        }
      ]
    },
    {
      "cell_type": "code",
      "metadata": {
        "id": "bc0fe988"
      },
      "source": [
        "check = data[\"Type_code\"]==\"Causes\""
      ],
      "id": "bc0fe988",
      "execution_count": 13,
      "outputs": []
    },
    {
      "cell_type": "code",
      "metadata": {
        "id": "d8caf64d"
      },
      "source": [
        "data1 = data[check]"
      ],
      "id": "d8caf64d",
      "execution_count": 14,
      "outputs": []
    },
    {
      "cell_type": "code",
      "metadata": {
        "id": "a47f8ae3",
        "colab": {
          "base_uri": "https://localhost:8080/"
        },
        "outputId": "f1502588-b3f3-4edd-c952-42e69cbac4b7"
      },
      "source": [
        "list(data1[\"Type\"].unique())"
      ],
      "id": "a47f8ae3",
      "execution_count": 15,
      "outputs": [
        {
          "output_type": "execute_result",
          "data": {
            "text/plain": [
              "['Family Problems',\n",
              " 'Causes Not known',\n",
              " 'Other Causes (Please Specity)',\n",
              " 'Other Prolonged Illness',\n",
              " 'Drug Abuse/Addiction',\n",
              " 'Dowry Dispute',\n",
              " 'Love Affairs',\n",
              " 'Bankruptcy or Sudden change in Economic',\n",
              " 'Poverty',\n",
              " 'Insanity/Mental Illness',\n",
              " 'Bankruptcy or Sudden change in Economic Status',\n",
              " 'Failure in Examination',\n",
              " 'Property Dispute',\n",
              " 'Unemployment',\n",
              " 'Fall in Social Reputation',\n",
              " 'Death of Dear Person',\n",
              " 'Illness (Aids/STD)',\n",
              " 'Professional/Career Problem',\n",
              " 'Cancellation/Non-Settlement of Marriage',\n",
              " 'Suspected/Illicit Relation',\n",
              " 'Not having Children(Barrenness/Impotency',\n",
              " 'Cancer',\n",
              " 'Physical Abuse (Rape/Incest Etc.)',\n",
              " 'Ideological Causes/Hero Worshipping',\n",
              " 'Paralysis',\n",
              " 'Illegitimate Pregnancy',\n",
              " 'Divorce',\n",
              " 'Not having Children (Barrenness/Impotency']"
            ]
          },
          "metadata": {},
          "execution_count": 15
        }
      ]
    },
    {
      "cell_type": "code",
      "metadata": {
        "id": "21719432",
        "colab": {
          "base_uri": "https://localhost:8080/"
        },
        "outputId": "d0a179b0-a819-4e18-f700-efedd8a9fbe5"
      },
      "source": [
        "list(data[\"State\"].unique())"
      ],
      "id": "21719432",
      "execution_count": 16,
      "outputs": [
        {
          "output_type": "execute_result",
          "data": {
            "text/plain": [
              "['Total (All India)',\n",
              " 'Total (States)',\n",
              " 'Maharashtra',\n",
              " 'Andhra Pradesh',\n",
              " 'Tamil Nadu',\n",
              " 'West Bengal',\n",
              " 'Karnataka',\n",
              " 'Kerala',\n",
              " 'Madhya Pradesh',\n",
              " 'Chhattisgarh',\n",
              " 'Gujarat',\n",
              " 'Rajasthan',\n",
              " 'Odisha',\n",
              " 'Uttar Pradesh',\n",
              " 'Haryana',\n",
              " 'Assam',\n",
              " 'Total (Uts)',\n",
              " 'Delhi (Ut)',\n",
              " 'Jharkhand',\n",
              " 'Bihar',\n",
              " 'Punjab',\n",
              " 'Tripura',\n",
              " 'Puducherry',\n",
              " 'Himachal Pradesh',\n",
              " 'Uttarakhand',\n",
              " 'Sikkim',\n",
              " 'Jammu & Kashmir',\n",
              " 'Goa',\n",
              " 'Arunachal Pradesh',\n",
              " 'A & N Islands',\n",
              " 'Mizoram',\n",
              " 'Meghalaya',\n",
              " 'Chandigarh',\n",
              " 'D & N Haveli',\n",
              " 'Manipur',\n",
              " 'Daman & Diu',\n",
              " 'Nagaland',\n",
              " 'Lakshadweep']"
            ]
          },
          "metadata": {},
          "execution_count": 16
        }
      ]
    },
    {
      "cell_type": "code",
      "metadata": {
        "colab": {
          "base_uri": "https://localhost:8080/"
        },
        "id": "xYrBPGSCc7Zu",
        "outputId": "0af57f5d-dd01-46ad-bb89-1e0708b715ad"
      },
      "source": [
        "list(data[\"Age_group\"].unique())"
      ],
      "id": "xYrBPGSCc7Zu",
      "execution_count": 17,
      "outputs": [
        {
          "output_type": "execute_result",
          "data": {
            "text/plain": [
              "['0-100+', '15-29', '30-44', '45-59', '60+', '0-14', nan]"
            ]
          },
          "metadata": {},
          "execution_count": 17
        }
      ]
    },
    {
      "cell_type": "code",
      "metadata": {
        "colab": {
          "base_uri": "https://localhost:8080/"
        },
        "id": "oiqWO_cZ1Y6M",
        "outputId": "b861f271-4231-469c-c22d-5113a98af89e"
      },
      "source": [
        "# Social status & Education status: 0-100+\n",
        "# ['0-14', '15-29', '30-44', '45-59', '60+', '0-100+']\n",
        "# Total (All India), Total (States), Total (Uts): Social status & Education status#\n",
        "\n",
        "\n",
        "# 1. EDUCATION STATUS OF SUICIDE INDIAN (including Males & Female: 0-100+)\n",
        "Education = data[['State','Type_code', 'Type', 'Gender', 'Total']]\n",
        "print(Education)\n"
      ],
      "id": "oiqWO_cZ1Y6M",
      "execution_count": 18,
      "outputs": [
        {
          "output_type": "stream",
          "name": "stdout",
          "text": [
            "                    State      Type_code  ...  Gender    Total\n",
            "0       Total (All India)  Social_Status  ...    Male  63343.0\n",
            "1       Total (All India)  Social_Status  ...    Male  62433.0\n",
            "2          Total (States)  Social_Status  ...    Male  62123.0\n",
            "3       Total (All India)  Social_Status  ...    Male  61453.0\n",
            "4          Total (States)  Social_Status  ...    Male  61242.0\n",
            "...                   ...            ...  ...     ...      ...\n",
            "196816          Meghalaya  Means_adopted  ...    Male      0.0\n",
            "196817          Meghalaya  Means_adopted  ...    Male      0.0\n",
            "196818          Meghalaya  Means_adopted  ...    Male      0.0\n",
            "196819          Meghalaya  Means_adopted  ...    Male      0.0\n",
            "196820          Meghalaya  Means_adopted  ...  Female      NaN\n",
            "\n",
            "[196821 rows x 5 columns]\n"
          ]
        }
      ]
    },
    {
      "cell_type": "code",
      "metadata": {
        "colab": {
          "base_uri": "https://localhost:8080/"
        },
        "id": "JWzKl4rb4_FE",
        "outputId": "cc36e1c0-d885-4273-d916-62806219e77a"
      },
      "source": [
        "select_Education = Education.loc[(Education['State'] == 'Total (All India)') & (Education['Type_code'] == 'Education_Status')]\n",
        "print (select_Education)"
      ],
      "id": "JWzKl4rb4_FE",
      "execution_count": 19,
      "outputs": [
        {
          "output_type": "stream",
          "name": "stdout",
          "text": [
            "                   State         Type_code  ...  Gender    Total\n",
            "48     Total (All India)  Education_Status  ...    Male  22386.0\n",
            "50     Total (All India)  Education_Status  ...    Male  21435.0\n",
            "52     Total (All India)  Education_Status  ...    Male  20748.0\n",
            "53     Total (All India)  Education_Status  ...    Male  20590.0\n",
            "55     Total (All India)  Education_Status  ...    Male  20290.0\n",
            "...                  ...               ...  ...     ...      ...\n",
            "11572  Total (All India)  Education_Status  ...  Female    142.0\n",
            "13254  Total (All India)  Education_Status  ...  Female    118.0\n",
            "14004  Total (All India)  Education_Status  ...  Female    109.0\n",
            "14751  Total (All India)  Education_Status  ...  Female    101.0\n",
            "15514  Total (All India)  Education_Status  ...  Female     94.0\n",
            "\n",
            "[192 rows x 5 columns]\n"
          ]
        }
      ]
    },
    {
      "cell_type": "code",
      "metadata": {
        "colab": {
          "base_uri": "https://localhost:8080/"
        },
        "id": "mXjE585j7iZc",
        "outputId": "6ab821f1-95f7-4f3c-a174-32542ab2f410"
      },
      "source": [
        "select_1 = select_Education.groupby('Type')['Total'].sum()\n",
        "print(select_1)"
      ],
      "id": "mXjE585j7iZc",
      "execution_count": 20,
      "outputs": [
        {
          "output_type": "stream",
          "name": "stdout",
          "text": [
            "Type\n",
            "Diploma                                      14153.0\n",
            "Graduate                                     31274.0\n",
            "Hr. Secondary/Intermediate/Pre-Universit    118908.0\n",
            "Matriculate/Secondary                       256566.0\n",
            "Middle                                      342971.0\n",
            "No Education                                321757.0\n",
            "Post Graduate and Above                       7475.0\n",
            "Primary                                     362827.0\n",
            "Name: Total, dtype: float64\n"
          ]
        }
      ]
    },
    {
      "cell_type": "code",
      "metadata": {
        "colab": {
          "base_uri": "https://localhost:8080/",
          "height": 492
        },
        "id": "KmjUumkK8eFs",
        "outputId": "569885bf-7083-4ff9-b69d-0073b20948bd"
      },
      "source": [
        "select_1.sort_values(inplace=True)\n",
        "select_1.plot.bar(x='Type',y='Total', rot=90, color ='g')"
      ],
      "id": "KmjUumkK8eFs",
      "execution_count": 35,
      "outputs": [
        {
          "output_type": "execute_result",
          "data": {
            "text/plain": [
              "<matplotlib.axes._subplots.AxesSubplot at 0x7ffa5a71c410>"
            ]
          },
          "metadata": {},
          "execution_count": 35
        },
        {
          "output_type": "display_data",
          "data": {
            "image/png": "[encoded data removed]",
            "text/plain": [
              "<Figure size 432x288 with 1 Axes>"
            ]
          },
          "metadata": {
            "needs_background": "light"
          }
        }
      ]
    },
    {
      "cell_type": "code",
      "metadata": {
        "colab": {
          "base_uri": "https://localhost:8080/",
          "height": 363
        },
        "id": "QP390OWd_jPE",
        "outputId": "fdf27e26-4e85-403c-fff5-0ff43e82245e"
      },
      "source": [
        "# 2. EDUCATION STATUS OF SUICIDE INDIAN (comparing Males & Female: 0-100+)\n",
        "select_2 = select_Education.groupby('Gender')['Total'].sum()\n",
        "print(select_2)\n",
        "select_2.plot.bar(x='Gender',y='Total', color ='r', align ='center', edgecolor='black', linewidth=5)\n",
        "plt.xticks(rotation = 360)"
      ],
      "id": "QP390OWd_jPE",
      "execution_count": 22,
      "outputs": [
        {
          "output_type": "stream",
          "name": "stdout",
          "text": [
            "Gender\n",
            "Female    524013.0\n",
            "Male      931918.0\n",
            "Name: Total, dtype: float64\n"
          ]
        },
        {
          "output_type": "execute_result",
          "data": {
            "text/plain": [
              "(array([0, 1]), <a list of 2 Text major ticklabel objects>)"
            ]
          },
          "metadata": {},
          "execution_count": 22
        },
        {
          "output_type": "display_data",
          "data": {
            "image/png": "[encoded data removed]",
            "text/plain": [
              "<Figure size 432x288 with 1 Axes>"
            ]
          },
          "metadata": {
            "needs_background": "light"
          }
        }
      ]
    },
    {
      "cell_type": "code",
      "metadata": {
        "colab": {
          "base_uri": "https://localhost:8080/"
        },
        "id": "06jnYcrMCvDf",
        "outputId": "6f45afbc-6f8c-4565-f57c-420160a30c61"
      },
      "source": [
        " # 3. SOCIAL STATUS OF SUICIDE INDIAN ((including Males & Female: 0-100+))\n",
        "select_Social = Education.loc[(Education['State'] == 'Total (All India)') & (Education['Type_code'] == 'Social_Status')]\n",
        "print (select_Social)"
      ],
      "id": "06jnYcrMCvDf",
      "execution_count": 23,
      "outputs": [
        {
          "output_type": "stream",
          "name": "stdout",
          "text": [
            "                  State      Type_code      Type  Gender    Total\n",
            "0     Total (All India)  Social_Status   Married    Male  63343.0\n",
            "1     Total (All India)  Social_Status   Married    Male  62433.0\n",
            "3     Total (All India)  Social_Status   Married    Male  61453.0\n",
            "6     Total (All India)  Social_Status   Married    Male  58192.0\n",
            "7     Total (All India)  Social_Status   Married    Male  57639.0\n",
            "...                 ...            ...       ...     ...      ...\n",
            "3148  Total (All India)  Social_Status  Divorcee    Male    554.0\n",
            "3256  Total (All India)  Social_Status  Divorcee  Female    539.0\n",
            "3310  Total (All India)  Social_Status  Divorcee  Female    532.0\n",
            "3350  Total (All India)  Social_Status  Divorcee    Male    526.0\n",
            "3429  Total (All India)  Social_Status  Divorcee    Male    514.0\n",
            "\n",
            "[120 rows x 5 columns]\n"
          ]
        }
      ]
    },
    {
      "cell_type": "code",
      "metadata": {
        "colab": {
          "base_uri": "https://localhost:8080/"
        },
        "id": "VpZaPqKYEBCO",
        "outputId": "78a467fd-66c8-47c5-c645-8b5d552ddbf5"
      },
      "source": [
        "select_3 = select_Social.groupby('Type')['Total'].sum()\n",
        "print(select_3)"
      ],
      "id": "VpZaPqKYEBCO",
      "execution_count": 24,
      "outputs": [
        {
          "output_type": "stream",
          "name": "stdout",
          "text": [
            "Type\n",
            "Divorcee             15272.0\n",
            "Married            1021774.0\n",
            "Never Married       318301.0\n",
            "Seperated            38471.0\n",
            "Widowed/Widower      62113.0\n",
            "Name: Total, dtype: float64\n"
          ]
        }
      ]
    },
    {
      "cell_type": "code",
      "metadata": {
        "colab": {
          "base_uri": "https://localhost:8080/",
          "height": 389
        },
        "id": "eorVheorEMrM",
        "outputId": "5c9eaa4d-baae-42e8-d8cc-24bd7d456b47"
      },
      "source": [
        "select_3.plot.bar(x='Type',y='Total', rot=90, color ='y')"
      ],
      "id": "eorVheorEMrM",
      "execution_count": 25,
      "outputs": [
        {
          "output_type": "execute_result",
          "data": {
            "text/plain": [
              "<matplotlib.axes._subplots.AxesSubplot at 0x7ffa5a7aa510>"
            ]
          },
          "metadata": {},
          "execution_count": 25
        },
        {
          "output_type": "display_data",
          "data": {
            "image/png": "[encoded data removed]",
            "text/plain": [
              "<Figure size 432x288 with 1 Axes>"
            ]
          },
          "metadata": {
            "needs_background": "light"
          }
        }
      ]
    },
    {
      "cell_type": "code",
      "metadata": {
        "colab": {
          "base_uri": "https://localhost:8080/",
          "height": 363
        },
        "id": "b_OxW58HEfVs",
        "outputId": "e5693f43-bd19-4ad2-fee1-d8807ef23997"
      },
      "source": [
        "# 4. SOCIAL STATUS OF SUICIDE INDIAN (comparing Males & Female: 0-100+)\n",
        "select_4 = select_Social.groupby('Gender')['Total'].sum()\n",
        "print(select_4)\n",
        "select_4.plot.bar(x='Gender',y='Total', color ='r', align ='center', edgecolor='black', linewidth=5)\n",
        "plt.xticks(rotation = 360)"
      ],
      "id": "b_OxW58HEfVs",
      "execution_count": 26,
      "outputs": [
        {
          "output_type": "stream",
          "name": "stdout",
          "text": [
            "Gender\n",
            "Female    524013.0\n",
            "Male      931918.0\n",
            "Name: Total, dtype: float64\n"
          ]
        },
        {
          "output_type": "execute_result",
          "data": {
            "text/plain": [
              "(array([0, 1]), <a list of 2 Text major ticklabel objects>)"
            ]
          },
          "metadata": {},
          "execution_count": 26
        },
        {
          "output_type": "display_data",
          "data": {
            "image/png": "[encoded data removed]",
            "text/plain": [
              "<Figure size 432x288 with 1 Axes>"
            ]
          },
          "metadata": {
            "needs_background": "light"
          }
        }
      ]
    },
    {
      "cell_type": "code",
      "metadata": {
        "colab": {
          "base_uri": "https://localhost:8080/"
        },
        "id": "GZMDjpqiLkMI",
        "outputId": "4a7f7043-2c75-4d1f-f38b-2ffe780f74a7"
      },
      "source": [
        "stage = data.loc[data['Type_code'] == 'Causes']\n",
        "print(stage)\n"
      ],
      "id": "GZMDjpqiLkMI",
      "execution_count": 27,
      "outputs": [
        {
          "output_type": "stream",
          "name": "stdout",
          "text": [
            "              State  Year Type_code  ...  Gender Age_group   Total\n",
            "936     Maharashtra  2012    Causes  ...    Male     30-44  1557.0\n",
            "958     Maharashtra  2011    Causes  ...    Male     30-44  1530.0\n",
            "984     Maharashtra  2010    Causes  ...    Male     30-44  1493.0\n",
            "999     West Bengal  2006    Causes  ...    Male     30-44  1465.0\n",
            "1029    Maharashtra  2011    Causes  ...  Female     15-29  1406.0\n",
            "...             ...   ...       ...  ...     ...       ...     ...\n",
            "171702  West Bengal  2012    Causes  ...    Male       60+     0.0\n",
            "171703  West Bengal  2012    Causes  ...    Male       60+     0.0\n",
            "171704  West Bengal  2012    Causes  ...    Male       60+     0.0\n",
            "171705  West Bengal  2012    Causes  ...    Male       60+     0.0\n",
            "171706  West Bengal  2012    Causes  ...    Male       60+     0.0\n",
            "\n",
            "[109200 rows x 7 columns]\n"
          ]
        }
      ]
    },
    {
      "cell_type": "code",
      "metadata": {
        "colab": {
          "base_uri": "https://localhost:8080/",
          "height": 322
        },
        "id": "3ynlV7mGX4hE",
        "outputId": "a95fc50f-6516-4821-9496-92c07a00bc4a"
      },
      "source": [
        "select_5 = stage.groupby('Gender')['Total'].sum()\n",
        "select_5.plot.bar(x='Causes',y='Total', rot=90)\n"
      ],
      "id": "3ynlV7mGX4hE",
      "execution_count": 28,
      "outputs": [
        {
          "output_type": "execute_result",
          "data": {
            "text/plain": [
              "<matplotlib.axes._subplots.AxesSubplot at 0x7ffa5a67d9d0>"
            ]
          },
          "metadata": {},
          "execution_count": 28
        },
        {
          "output_type": "display_data",
          "data": {
            "image/png": "[encoded data removed]",
            "text/plain": [
              "<Figure size 432x288 with 1 Axes>"
            ]
          },
          "metadata": {
            "needs_background": "light"
          }
        }
      ]
    },
    {
      "cell_type": "code",
      "metadata": {
        "colab": {
          "base_uri": "https://localhost:8080/",
          "height": 971
        },
        "id": "dI9292TKbW-Y",
        "outputId": "7670071a-7414-4e6d-9f89-2e0330a536ce"
      },
      "source": [
        "select_6 = stage.groupby('Type')['Total'].sum().sort_values()\n",
        "select_6.plot.bar(x='Type',y='Total', figsize=(10,12))"
      ],
      "id": "dI9292TKbW-Y",
      "execution_count": 29,
      "outputs": [
        {
          "output_type": "execute_result",
          "data": {
            "text/plain": [
              "<matplotlib.axes._subplots.AxesSubplot at 0x7ffa5a5ee8d0>"
            ]
          },
          "metadata": {},
          "execution_count": 29
        },
        {
          "output_type": "display_data",
          "data": {
            "image/png": "[encoded data removed]",
            "text/plain": [
              "<Figure size 720x864 with 1 Axes>"
            ]
          },
          "metadata": {
            "needs_background": "light"
          }
        }
      ]
    }
  ]
}