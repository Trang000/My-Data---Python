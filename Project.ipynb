{
  "nbformat": 4,
  "nbformat_minor": 5,
  "metadata": {
    "kernelspec": {
      "display_name": "Python 3",
      "language": "python",
      "name": "python3"
    },
    "language_info": {
      "codemirror_mode": {
        "name": "ipython",
        "version": 3
      },
      "file_extension": ".py",
      "mimetype": "text/x-python",
      "name": "python",
      "nbconvert_exporter": "python",
      "pygments_lexer": "ipython3",
      "version": "3.8.8"
    },
    "colab": {
      "name": "Project.ipynb",
      "provenance": [],
      "collapsed_sections": [],
      "include_colab_link": true
    }
  },
  "cells": [
    {
      "cell_type": "markdown",
      "metadata": {
        "id": "view-in-github",
        "colab_type": "text"
      },
      "source": [
        "<a href=\"https://colab.research.google.com/github/Trang000/My-Data---Python/blob/main/Project.ipynb\" target=\"_parent\"><img src=\"https://colab.research.google.com/assets/colab-badge.svg\" alt=\"Open In Colab\"/></a>"
      ]
    },
    {
      "cell_type": "code",
      "metadata": {
        "id": "fc359565"
      },
      "source": [
        "import pandas as pd\n",
        "\n",
        "import numpy as np\n",
        "import matplotlib.pyplot as plt"
      ],
      "id": "fc359565",
      "execution_count": 56,
      "outputs": []
    },
    {
      "cell_type": "code",
      "metadata": {
        "id": "eba55890"
      },
      "source": [
        "data = pd.read_csv(\"/content/SuicidesIndia.csv\")"
      ],
      "id": "eba55890",
      "execution_count": 57,
      "outputs": []
    },
    {
      "cell_type": "code",
      "metadata": {
        "id": "78a296b8",
        "colab": {
          "base_uri": "https://localhost:8080/",
          "height": 417
        },
        "outputId": "ae0e4b3c-d714-4145-e4a9-c0f2c7ad0ce9"
      },
      "source": [
        "data"
      ],
      "id": "78a296b8",
      "execution_count": 58,
      "outputs": [
        {
          "output_type": "execute_result",
          "data": {
            "text/html": [
              "<div>\n",
              "<style scoped>\n",
              "    .dataframe tbody tr th:only-of-type {\n",
              "        vertical-align: middle;\n",
              "    }\n",
              "\n",
              "    .dataframe tbody tr th {\n",
              "        vertical-align: top;\n",
              "    }\n",
              "\n",
              "    .dataframe thead th {\n",
              "        text-align: right;\n",
              "    }\n",
              "</style>\n",
              "<table border=\"1\" class=\"dataframe\">\n",
              "  <thead>\n",
              "    <tr style=\"text-align: right;\">\n",
              "      <th></th>\n",
              "      <th>State</th>\n",
              "      <th>Year</th>\n",
              "      <th>Type_code</th>\n",
              "      <th>Type</th>\n",
              "      <th>Gender</th>\n",
              "      <th>Age_group</th>\n",
              "      <th>Total</th>\n",
              "    </tr>\n",
              "  </thead>\n",
              "  <tbody>\n",
              "    <tr>\n",
              "      <th>0</th>\n",
              "      <td>Total (All India)</td>\n",
              "      <td>2012</td>\n",
              "      <td>Social_Status</td>\n",
              "      <td>Married</td>\n",
              "      <td>Male</td>\n",
              "      <td>0-100+</td>\n",
              "      <td>63343</td>\n",
              "    </tr>\n",
              "    <tr>\n",
              "      <th>1</th>\n",
              "      <td>Total (All India)</td>\n",
              "      <td>2011</td>\n",
              "      <td>Social_Status</td>\n",
              "      <td>Married</td>\n",
              "      <td>Male</td>\n",
              "      <td>0-100+</td>\n",
              "      <td>62433</td>\n",
              "    </tr>\n",
              "    <tr>\n",
              "      <th>2</th>\n",
              "      <td>Total (States)</td>\n",
              "      <td>2012</td>\n",
              "      <td>Social_Status</td>\n",
              "      <td>Married</td>\n",
              "      <td>Male</td>\n",
              "      <td>0-100+</td>\n",
              "      <td>62123</td>\n",
              "    </tr>\n",
              "    <tr>\n",
              "      <th>3</th>\n",
              "      <td>Total (All India)</td>\n",
              "      <td>2010</td>\n",
              "      <td>Social_Status</td>\n",
              "      <td>Married</td>\n",
              "      <td>Male</td>\n",
              "      <td>0-100+</td>\n",
              "      <td>61453</td>\n",
              "    </tr>\n",
              "    <tr>\n",
              "      <th>4</th>\n",
              "      <td>Total (States)</td>\n",
              "      <td>2011</td>\n",
              "      <td>Social_Status</td>\n",
              "      <td>Married</td>\n",
              "      <td>Male</td>\n",
              "      <td>0-100+</td>\n",
              "      <td>61242</td>\n",
              "    </tr>\n",
              "    <tr>\n",
              "      <th>...</th>\n",
              "      <td>...</td>\n",
              "      <td>...</td>\n",
              "      <td>...</td>\n",
              "      <td>...</td>\n",
              "      <td>...</td>\n",
              "      <td>...</td>\n",
              "      <td>...</td>\n",
              "    </tr>\n",
              "    <tr>\n",
              "      <th>237514</th>\n",
              "      <td>Uttarakhand</td>\n",
              "      <td>2010</td>\n",
              "      <td>Social_Status</td>\n",
              "      <td>Divorcee</td>\n",
              "      <td>Female</td>\n",
              "      <td>0-100+</td>\n",
              "      <td>0</td>\n",
              "    </tr>\n",
              "    <tr>\n",
              "      <th>237515</th>\n",
              "      <td>Uttarakhand</td>\n",
              "      <td>2010</td>\n",
              "      <td>Social_Status</td>\n",
              "      <td>Divorcee</td>\n",
              "      <td>Male</td>\n",
              "      <td>0-100+</td>\n",
              "      <td>0</td>\n",
              "    </tr>\n",
              "    <tr>\n",
              "      <th>237516</th>\n",
              "      <td>Uttarakhand</td>\n",
              "      <td>2011</td>\n",
              "      <td>Social_Status</td>\n",
              "      <td>Divorcee</td>\n",
              "      <td>Female</td>\n",
              "      <td>0-100+</td>\n",
              "      <td>0</td>\n",
              "    </tr>\n",
              "    <tr>\n",
              "      <th>237517</th>\n",
              "      <td>Uttarakhand</td>\n",
              "      <td>2012</td>\n",
              "      <td>Social_Status</td>\n",
              "      <td>Seperated</td>\n",
              "      <td>Female</td>\n",
              "      <td>0-100+</td>\n",
              "      <td>0</td>\n",
              "    </tr>\n",
              "    <tr>\n",
              "      <th>237518</th>\n",
              "      <td>Uttarakhand</td>\n",
              "      <td>2012</td>\n",
              "      <td>Social_Status</td>\n",
              "      <td>Divorcee</td>\n",
              "      <td>Male</td>\n",
              "      <td>0-100+</td>\n",
              "      <td>0</td>\n",
              "    </tr>\n",
              "  </tbody>\n",
              "</table>\n",
              "<p>237519 rows × 7 columns</p>\n",
              "</div>"
            ],
            "text/plain": [
              "                    State  Year      Type_code  ...  Gender Age_group  Total\n",
              "0       Total (All India)  2012  Social_Status  ...    Male    0-100+  63343\n",
              "1       Total (All India)  2011  Social_Status  ...    Male    0-100+  62433\n",
              "2          Total (States)  2012  Social_Status  ...    Male    0-100+  62123\n",
              "3       Total (All India)  2010  Social_Status  ...    Male    0-100+  61453\n",
              "4          Total (States)  2011  Social_Status  ...    Male    0-100+  61242\n",
              "...                   ...   ...            ...  ...     ...       ...    ...\n",
              "237514        Uttarakhand  2010  Social_Status  ...  Female    0-100+      0\n",
              "237515        Uttarakhand  2010  Social_Status  ...    Male    0-100+      0\n",
              "237516        Uttarakhand  2011  Social_Status  ...  Female    0-100+      0\n",
              "237517        Uttarakhand  2012  Social_Status  ...  Female    0-100+      0\n",
              "237518        Uttarakhand  2012  Social_Status  ...    Male    0-100+      0\n",
              "\n",
              "[237519 rows x 7 columns]"
            ]
          },
          "metadata": {},
          "execution_count": 58
        }
      ]
    },
    {
      "cell_type": "code",
      "metadata": {
        "scrolled": true,
        "id": "06f84e74",
        "colab": {
          "base_uri": "https://localhost:8080/"
        },
        "outputId": "fed1e6cd-a4a1-48f3-8f94-7fe70aab884d"
      },
      "source": [
        "list(data[\"Type_code\"].unique())"
      ],
      "id": "06f84e74",
      "execution_count": 59,
      "outputs": [
        {
          "output_type": "execute_result",
          "data": {
            "text/plain": [
              "['Social_Status',\n",
              " 'Education_Status',\n",
              " 'Professional_Profile',\n",
              " 'Means_adopted',\n",
              " 'Causes']"
            ]
          },
          "metadata": {},
          "execution_count": 59
        }
      ]
    },
    {
      "cell_type": "code",
      "metadata": {
        "id": "bc0fe988"
      },
      "source": [
        "check = data[\"Type_code\"]==\"Causes\""
      ],
      "id": "bc0fe988",
      "execution_count": 60,
      "outputs": []
    },
    {
      "cell_type": "code",
      "metadata": {
        "id": "d8caf64d"
      },
      "source": [
        "data1 = data[check]"
      ],
      "id": "d8caf64d",
      "execution_count": 61,
      "outputs": []
    },
    {
      "cell_type": "code",
      "metadata": {
        "id": "a47f8ae3",
        "colab": {
          "base_uri": "https://localhost:8080/"
        },
        "outputId": "441cc3ab-8013-41ff-9deb-830a415fab53"
      },
      "source": [
        "list(data1[\"Type\"].unique())"
      ],
      "id": "a47f8ae3",
      "execution_count": 62,
      "outputs": [
        {
          "output_type": "execute_result",
          "data": {
            "text/plain": [
              "['Family Problems',\n",
              " 'Causes Not known',\n",
              " 'Other Causes (Please Specity)',\n",
              " 'Other Prolonged Illness',\n",
              " 'Drug Abuse/Addiction',\n",
              " 'Dowry Dispute',\n",
              " 'Love Affairs',\n",
              " 'Bankruptcy or Sudden change in Economic',\n",
              " 'Poverty',\n",
              " 'Insanity/Mental Illness',\n",
              " 'Bankruptcy or Sudden change in Economic Status',\n",
              " 'Failure in Examination',\n",
              " 'Property Dispute',\n",
              " 'Unemployment',\n",
              " 'Fall in Social Reputation',\n",
              " 'Death of Dear Person',\n",
              " 'Illness (Aids/STD)',\n",
              " 'Professional/Career Problem',\n",
              " 'Cancellation/Non-Settlement of Marriage',\n",
              " 'Suspected/Illicit Relation',\n",
              " 'Not having Children(Barrenness/Impotency',\n",
              " 'Cancer',\n",
              " 'Physical Abuse (Rape/Incest Etc.)',\n",
              " 'Ideological Causes/Hero Worshipping',\n",
              " 'Paralysis',\n",
              " 'Illegitimate Pregnancy',\n",
              " 'Divorce',\n",
              " 'Not having Children (Barrenness/Impotency']"
            ]
          },
          "metadata": {},
          "execution_count": 62
        }
      ]
    },
    {
      "cell_type": "code",
      "metadata": {
        "id": "21719432",
        "colab": {
          "base_uri": "https://localhost:8080/"
        },
        "outputId": "31cecd30-7c77-4e5a-fe01-97c64884cc3f"
      },
      "source": [
        "list(data[\"State\"].unique())"
      ],
      "id": "21719432",
      "execution_count": 63,
      "outputs": [
        {
          "output_type": "execute_result",
          "data": {
            "text/plain": [
              "['Total (All India)',\n",
              " 'Total (States)',\n",
              " 'Maharashtra',\n",
              " 'Andhra Pradesh',\n",
              " 'Tamil Nadu',\n",
              " 'West Bengal',\n",
              " 'Karnataka',\n",
              " 'Kerala',\n",
              " 'Madhya Pradesh',\n",
              " 'Chhattisgarh',\n",
              " 'Gujarat',\n",
              " 'Rajasthan',\n",
              " 'Odisha',\n",
              " 'Uttar Pradesh',\n",
              " 'Haryana',\n",
              " 'Assam',\n",
              " 'Total (Uts)',\n",
              " 'Delhi (Ut)',\n",
              " 'Jharkhand',\n",
              " 'Bihar',\n",
              " 'Punjab',\n",
              " 'Tripura',\n",
              " 'Puducherry',\n",
              " 'Himachal Pradesh',\n",
              " 'Uttarakhand',\n",
              " 'Sikkim',\n",
              " 'Jammu & Kashmir',\n",
              " 'Goa',\n",
              " 'Arunachal Pradesh',\n",
              " 'A & N Islands',\n",
              " 'Mizoram',\n",
              " 'Meghalaya',\n",
              " 'Chandigarh',\n",
              " 'D & N Haveli',\n",
              " 'Manipur',\n",
              " 'Daman & Diu',\n",
              " 'Nagaland',\n",
              " 'Lakshadweep']"
            ]
          },
          "metadata": {},
          "execution_count": 63
        }
      ]
    },
    {
      "cell_type": "code",
      "metadata": {
        "colab": {
          "base_uri": "https://localhost:8080/"
        },
        "id": "xYrBPGSCc7Zu",
        "outputId": "21c56c08-6ced-4ba7-f849-5a009e183e60"
      },
      "source": [
        "list(data[\"Age_group\"].unique())"
      ],
      "id": "xYrBPGSCc7Zu",
      "execution_count": 64,
      "outputs": [
        {
          "output_type": "execute_result",
          "data": {
            "text/plain": [
              "['0-100+', '15-29', '30-44', '45-59', '60+', '0-14']"
            ]
          },
          "metadata": {},
          "execution_count": 64
        }
      ]
    },
    {
      "cell_type": "code",
      "metadata": {
        "colab": {
          "base_uri": "https://localhost:8080/"
        },
        "id": "oiqWO_cZ1Y6M",
        "outputId": "c6b1e4f6-fa2b-45ff-8caf-3cec55b43693"
      },
      "source": [
        "# Social status & Education status: 0-100+\n",
        "# ['0-14', '15-29', '30-44', '45-59', '60+', '0-100+']\n",
        "# Total (All India), Total (States), Total (Uts): Social status & Education status#\n",
        "\n",
        "\n",
        "# 1. EDUCATION STATUS OF SUICIDE INDIAN (including Males & Female: 0-100+)\n",
        "Education = data[['State','Type_code', 'Type', 'Gender', 'Total']]\n",
        "print(Education)\n"
      ],
      "id": "oiqWO_cZ1Y6M",
      "execution_count": 65,
      "outputs": [
        {
          "output_type": "stream",
          "name": "stdout",
          "text": [
            "                    State      Type_code       Type  Gender  Total\n",
            "0       Total (All India)  Social_Status    Married    Male  63343\n",
            "1       Total (All India)  Social_Status    Married    Male  62433\n",
            "2          Total (States)  Social_Status    Married    Male  62123\n",
            "3       Total (All India)  Social_Status    Married    Male  61453\n",
            "4          Total (States)  Social_Status    Married    Male  61242\n",
            "...                   ...            ...        ...     ...    ...\n",
            "237514        Uttarakhand  Social_Status   Divorcee  Female      0\n",
            "237515        Uttarakhand  Social_Status   Divorcee    Male      0\n",
            "237516        Uttarakhand  Social_Status   Divorcee  Female      0\n",
            "237517        Uttarakhand  Social_Status  Seperated  Female      0\n",
            "237518        Uttarakhand  Social_Status   Divorcee    Male      0\n",
            "\n",
            "[237519 rows x 5 columns]\n"
          ]
        }
      ]
    },
    {
      "cell_type": "code",
      "metadata": {
        "colab": {
          "base_uri": "https://localhost:8080/"
        },
        "id": "JWzKl4rb4_FE",
        "outputId": "89e8a4c0-5e44-4250-f313-39e495065a76"
      },
      "source": [
        "select_Education = Education.loc[(Education['State'] == 'Total (All India)') & (Education['Type_code'] == 'Education_Status')]\n",
        "print (select_Education)"
      ],
      "id": "JWzKl4rb4_FE",
      "execution_count": 66,
      "outputs": [
        {
          "output_type": "stream",
          "name": "stdout",
          "text": [
            "                   State         Type_code  ...  Gender  Total\n",
            "48     Total (All India)  Education_Status  ...    Male  22386\n",
            "50     Total (All India)  Education_Status  ...    Male  21435\n",
            "52     Total (All India)  Education_Status  ...    Male  20748\n",
            "53     Total (All India)  Education_Status  ...    Male  20590\n",
            "55     Total (All India)  Education_Status  ...    Male  20290\n",
            "...                  ...               ...  ...     ...    ...\n",
            "11572  Total (All India)  Education_Status  ...  Female    142\n",
            "13254  Total (All India)  Education_Status  ...  Female    118\n",
            "14004  Total (All India)  Education_Status  ...  Female    109\n",
            "14751  Total (All India)  Education_Status  ...  Female    101\n",
            "15514  Total (All India)  Education_Status  ...  Female     94\n",
            "\n",
            "[192 rows x 5 columns]\n"
          ]
        }
      ]
    },
    {
      "cell_type": "code",
      "metadata": {
        "colab": {
          "base_uri": "https://localhost:8080/"
        },
        "id": "mXjE585j7iZc",
        "outputId": "85baba2b-0944-49bb-819f-37065024b1e7"
      },
      "source": [
        "select_1 = select_Education.groupby('Type')['Total'].sum()\n",
        "print(select_1)"
      ],
      "id": "mXjE585j7iZc",
      "execution_count": 67,
      "outputs": [
        {
          "output_type": "stream",
          "name": "stdout",
          "text": [
            "Type\n",
            "Diploma                                      14153\n",
            "Graduate                                     31274\n",
            "Hr. Secondary/Intermediate/Pre-Universit    118908\n",
            "Matriculate/Secondary                       256566\n",
            "Middle                                      342971\n",
            "No Education                                321757\n",
            "Post Graduate and Above                       7475\n",
            "Primary                                     362827\n",
            "Name: Total, dtype: int64\n"
          ]
        }
      ]
    },
    {
      "cell_type": "code",
      "metadata": {
        "colab": {
          "base_uri": "https://localhost:8080/",
          "height": 492
        },
        "id": "KmjUumkK8eFs",
        "outputId": "9d682354-35ab-4f52-8d72-e13c7cb607fd"
      },
      "source": [
        "select_1.sort_values(inplace=True)\n",
        "select_1.plot.bar(x='Type',y='Total', rot=90, color ='g')"
      ],
      "id": "KmjUumkK8eFs",
      "execution_count": 68,
      "outputs": [
        {
          "output_type": "execute_result",
          "data": {
            "text/plain": [
              "<matplotlib.axes._subplots.AxesSubplot at 0x7ffa5a2cba90>"
            ]
          },
          "metadata": {},
          "execution_count": 68
        },
        {
          "output_type": "display_data",
          "data": {
            "image/png": "[encoded data removed]",
            "text/plain": [
              "<Figure size 432x288 with 1 Axes>"
            ]
          },
          "metadata": {
            "needs_background": "light"
          }
        }
      ]
    },
    {
      "cell_type": "code",
      "metadata": {
        "colab": {
          "base_uri": "https://localhost:8080/",
          "height": 363
        },
        "id": "QP390OWd_jPE",
        "outputId": "81124ad6-a8d9-4579-e659-1bf03b4560d7"
      },
      "source": [
        "# 2. EDUCATION STATUS OF SUICIDE INDIAN (comparing Males & Female: 0-100+)\n",
        "select_2 = select_Education.groupby('Gender')['Total'].sum()\n",
        "print(select_2)\n",
        "select_2.plot.bar(x='Gender',y='Total', color ='r', align ='center', edgecolor='black', linewidth=5)\n",
        "plt.xticks(rotation = 360)"
      ],
      "id": "QP390OWd_jPE",
      "execution_count": 69,
      "outputs": [
        {
          "output_type": "stream",
          "name": "stdout",
          "text": [
            "Gender\n",
            "Female    524013\n",
            "Male      931918\n",
            "Name: Total, dtype: int64\n"
          ]
        },
        {
          "output_type": "execute_result",
          "data": {
            "text/plain": [
              "(array([0, 1]), <a list of 2 Text major ticklabel objects>)"
            ]
          },
          "metadata": {},
          "execution_count": 69
        },
        {
          "output_type": "display_data",
          "data": {
            "image/png": "[encoded data removed]",
            "text/plain": [
              "<Figure size 432x288 with 1 Axes>"
            ]
          },
          "metadata": {
            "needs_background": "light"
          }
        }
      ]
    },
    {
      "cell_type": "code",
      "metadata": {
        "colab": {
          "base_uri": "https://localhost:8080/"
        },
        "id": "06jnYcrMCvDf",
        "outputId": "4bd99152-e453-4dc8-8f48-1fff60c5db84"
      },
      "source": [
        " # 3. SOCIAL STATUS OF SUICIDE INDIAN ((including Males & Female: 0-100+))\n",
        "select_Social = Education.loc[(Education['State'] == 'Total (All India)') & (Education['Type_code'] == 'Social_Status')]\n",
        "print (select_Social)"
      ],
      "id": "06jnYcrMCvDf",
      "execution_count": 70,
      "outputs": [
        {
          "output_type": "stream",
          "name": "stdout",
          "text": [
            "                  State      Type_code      Type  Gender  Total\n",
            "0     Total (All India)  Social_Status   Married    Male  63343\n",
            "1     Total (All India)  Social_Status   Married    Male  62433\n",
            "3     Total (All India)  Social_Status   Married    Male  61453\n",
            "6     Total (All India)  Social_Status   Married    Male  58192\n",
            "7     Total (All India)  Social_Status   Married    Male  57639\n",
            "...                 ...            ...       ...     ...    ...\n",
            "3148  Total (All India)  Social_Status  Divorcee    Male    554\n",
            "3256  Total (All India)  Social_Status  Divorcee  Female    539\n",
            "3310  Total (All India)  Social_Status  Divorcee  Female    532\n",
            "3350  Total (All India)  Social_Status  Divorcee    Male    526\n",
            "3429  Total (All India)  Social_Status  Divorcee    Male    514\n",
            "\n",
            "[120 rows x 5 columns]\n"
          ]
        }
      ]
    },
    {
      "cell_type": "code",
      "metadata": {
        "colab": {
          "base_uri": "https://localhost:8080/",
          "height": 506
        },
        "id": "VpZaPqKYEBCO",
        "outputId": "1c7bed75-834b-4438-90e4-fb6b105b3526"
      },
      "source": [
        "select_3 = select_Social.groupby('Type')['Total'].sum()\n",
        "print(select_3)\n",
        "select_3.sort_values(inplace=True)\n",
        "select_3.plot.bar(x='Type',y='Total', rot=90, color ='y')"
      ],
      "id": "VpZaPqKYEBCO",
      "execution_count": 81,
      "outputs": [
        {
          "output_type": "stream",
          "name": "stdout",
          "text": [
            "Type\n",
            "Divorcee             15272\n",
            "Married            1021774\n",
            "Never Married       318301\n",
            "Seperated            38471\n",
            "Widowed/Widower      62113\n",
            "Name: Total, dtype: int64\n"
          ]
        },
        {
          "output_type": "execute_result",
          "data": {
            "text/plain": [
              "<matplotlib.axes._subplots.AxesSubplot at 0x7ffa59041750>"
            ]
          },
          "metadata": {},
          "execution_count": 81
        },
        {
          "output_type": "display_data",
          "data": {
            "image/png": "[encoded data removed]",
            "text/plain": [
              "<Figure size 432x288 with 1 Axes>"
            ]
          },
          "metadata": {
            "needs_background": "light"
          }
        }
      ]
    },
    {
      "cell_type": "code",
      "metadata": {
        "colab": {
          "base_uri": "https://localhost:8080/",
          "height": 363
        },
        "id": "b_OxW58HEfVs",
        "outputId": "d08fae75-bf7e-4448-a968-c44f94f555f6"
      },
      "source": [
        "# 4. SOCIAL STATUS OF SUICIDE INDIAN (comparing Males & Female: 0-100+)\n",
        "select_4 = select_Social.groupby('Gender')['Total'].sum()\n",
        "print(select_4)\n",
        "select_4.plot.bar(x='Gender',y='Total', color ='r', align ='center', edgecolor='black', linewidth=5)\n",
        "plt.xticks(rotation = 360)"
      ],
      "id": "b_OxW58HEfVs",
      "execution_count": 73,
      "outputs": [
        {
          "output_type": "stream",
          "name": "stdout",
          "text": [
            "Gender\n",
            "Female    524013\n",
            "Male      931918\n",
            "Name: Total, dtype: int64\n"
          ]
        },
        {
          "output_type": "execute_result",
          "data": {
            "text/plain": [
              "(array([0, 1]), <a list of 2 Text major ticklabel objects>)"
            ]
          },
          "metadata": {},
          "execution_count": 73
        },
        {
          "output_type": "display_data",
          "data": {
            "image/png": "[encoded data removed]",
            "text/plain": [
              "<Figure size 432x288 with 1 Axes>"
            ]
          },
          "metadata": {
            "needs_background": "light"
          }
        }
      ]
    },
    {
      "cell_type": "code",
      "metadata": {
        "colab": {
          "base_uri": "https://localhost:8080/"
        },
        "id": "GZMDjpqiLkMI",
        "outputId": "07e495f8-8e0a-406e-a2ca-ea1decec47fe"
      },
      "source": [
        "stage = data.loc[data['Type_code'] == 'Causes']\n",
        "print(stage)\n"
      ],
      "id": "GZMDjpqiLkMI",
      "execution_count": 74,
      "outputs": [
        {
          "output_type": "stream",
          "name": "stdout",
          "text": [
            "              State  Year Type_code  ...  Gender Age_group Total\n",
            "936     Maharashtra  2012    Causes  ...    Male     30-44  1557\n",
            "958     Maharashtra  2011    Causes  ...    Male     30-44  1530\n",
            "984     Maharashtra  2010    Causes  ...    Male     30-44  1493\n",
            "999     West Bengal  2006    Causes  ...    Male     30-44  1465\n",
            "1029    Maharashtra  2011    Causes  ...  Female     15-29  1406\n",
            "...             ...   ...       ...  ...     ...       ...   ...\n",
            "171702  West Bengal  2012    Causes  ...    Male       60+     0\n",
            "171703  West Bengal  2012    Causes  ...    Male       60+     0\n",
            "171704  West Bengal  2012    Causes  ...    Male       60+     0\n",
            "171705  West Bengal  2012    Causes  ...    Male       60+     0\n",
            "171706  West Bengal  2012    Causes  ...    Male       60+     0\n",
            "\n",
            "[109200 rows x 7 columns]\n"
          ]
        }
      ]
    },
    {
      "cell_type": "code",
      "metadata": {
        "colab": {
          "base_uri": "https://localhost:8080/",
          "height": 322
        },
        "id": "3ynlV7mGX4hE",
        "outputId": "5b88e106-b031-453d-f86a-13ad1ae26fe8"
      },
      "source": [
        "select_5 = stage.groupby('Gender')['Total'].sum()\n",
        "select_5.plot.bar(x='Causes',y='Total', rot=90)\n"
      ],
      "id": "3ynlV7mGX4hE",
      "execution_count": 75,
      "outputs": [
        {
          "output_type": "execute_result",
          "data": {
            "text/plain": [
              "<matplotlib.axes._subplots.AxesSubplot at 0x7ffa59405950>"
            ]
          },
          "metadata": {},
          "execution_count": 75
        },
        {
          "output_type": "display_data",
          "data": {
            "image/png": "[encoded data removed]",
            "text/plain": [
              "<Figure size 432x288 with 1 Axes>"
            ]
          },
          "metadata": {
            "needs_background": "light"
          }
        }
      ]
    },
    {
      "cell_type": "code",
      "metadata": {
        "colab": {
          "base_uri": "https://localhost:8080/",
          "height": 1000
        },
        "id": "dI9292TKbW-Y",
        "outputId": "e2885a75-ac8f-42c5-c7d2-fe636fdd9662"
      },
      "source": [
        "select_6 = stage.groupby('Type')['Total'].sum().sort_values()\n",
        "print(select_6)\n",
        "select_6.plot.bar(x='Type',y='Total', figsize=(10,12))"
      ],
      "id": "dI9292TKbW-Y",
      "execution_count": 79,
      "outputs": [
        {
          "output_type": "stream",
          "name": "stdout",
          "text": [
            "Type\n",
            "Not having Children (Barrenness/Impotency            766\n",
            "Ideological Causes/Hero Worshipping                 2118\n",
            "Illegitimate Pregnancy                              2494\n",
            "Bankruptcy or Sudden change in Economic Status      2655\n",
            "Physical Abuse (Rape/Incest Etc.)                   3992\n",
            "Divorce                                             4133\n",
            "Paralysis                                           7286\n",
            "Not having Children(Barrenness/Impotency            7822\n",
            "Illness (Aids/STD)                                  8723\n",
            "Cancer                                              9058\n",
            "Death of Dear Person                               10321\n",
            "Cancellation/Non-Settlement of Marriage            11296\n",
            "Professional/Career Problem                        12554\n",
            "Fall in Social Reputation                          13464\n",
            "Suspected/Illicit Relation                         14911\n",
            "Property Dispute                                   18652\n",
            "Failure in Examination                             27005\n",
            "Unemployment                                       27365\n",
            "Drug Abuse/Addiction                               30046\n",
            "Dowry Dispute                                      31970\n",
            "Poverty                                            32684\n",
            "Bankruptcy or Sudden change in Economic            32755\n",
            "Love Affairs                                       45039\n",
            "Insanity/Mental Illness                            94229\n",
            "Other Prolonged Illness                           194565\n",
            "Other Causes (Please Specity)                     216050\n",
            "Causes Not known                                  237069\n",
            "Family Problems                                   341952\n",
            "Name: Total, dtype: int64\n"
          ]
        },
        {
          "output_type": "execute_result",
          "data": {
            "text/plain": [
              "<matplotlib.axes._subplots.AxesSubplot at 0x7ffa59183650>"
            ]
          },
          "metadata": {},
          "execution_count": 79
        },
        {
          "output_type": "display_data",
          "data": {
            "image/png": "[encoded data removed]",
            "text/plain": [
              "<Figure size 720x864 with 1 Axes>"
            ]
          },
          "metadata": {
            "needs_background": "light"
          }
        }
      ]
    },
    {
      "cell_type": "code",
      "metadata": {
        "colab": {
          "base_uri": "https://localhost:8080/"
        },
        "id": "vLBY4J-dWYUa",
        "outputId": "7a86d771-bb03-4000-fec9-98da16a903bb"
      },
      "source": [
        "# Group by State:\n",
        "select_State = data.loc[(data['State'] != 'Total (All India)') & (data['State'] != 'Total (States)') & (data['State'] != 'Total (Uts)')]\n",
        "select_State.dropna(inplace=True)\n",
        "print (select_State)"
      ],
      "id": "vLBY4J-dWYUa",
      "execution_count": 77,
      "outputs": [
        {
          "output_type": "stream",
          "name": "stdout",
          "text": [
            "                 State  Year      Type_code       Type  Gender Age_group  Total\n",
            "257        Maharashtra  2012  Social_Status    Married    Male    0-100+   8756\n",
            "259     Andhra Pradesh  2010  Social_Status    Married    Male    0-100+   8659\n",
            "267        Maharashtra  2011  Social_Status    Married    Male    0-100+   8387\n",
            "270     Andhra Pradesh  2011  Social_Status    Married    Male    0-100+   8241\n",
            "272        Maharashtra  2010  Social_Status    Married    Male    0-100+   8138\n",
            "...                ...   ...            ...        ...     ...       ...    ...\n",
            "237514     Uttarakhand  2010  Social_Status   Divorcee  Female    0-100+      0\n",
            "237515     Uttarakhand  2010  Social_Status   Divorcee    Male    0-100+      0\n",
            "237516     Uttarakhand  2011  Social_Status   Divorcee  Female    0-100+      0\n",
            "237517     Uttarakhand  2012  Social_Status  Seperated  Female    0-100+      0\n",
            "237518     Uttarakhand  2012  Social_Status   Divorcee    Male    0-100+      0\n",
            "\n",
            "[236583 rows x 7 columns]\n"
          ]
        },
        {
          "output_type": "stream",
          "name": "stderr",
          "text": [
            "/usr/local/lib/python3.7/dist-packages/ipykernel_launcher.py:3: SettingWithCopyWarning: \n",
            "A value is trying to be set on a copy of a slice from a DataFrame\n",
            "\n",
            "See the caveats in the documentation: https://pandas.pydata.org/pandas-docs/stable/user_guide/indexing.html#returning-a-view-versus-a-copy\n",
            "  This is separate from the ipykernel package so we can avoid doing imports until\n"
          ]
        }
      ]
    },
    {
      "cell_type": "code",
      "metadata": {
        "colab": {
          "base_uri": "https://localhost:8080/",
          "height": 1000
        },
        "id": "2dzTaVO3YkQF",
        "outputId": "8e821500-b23f-40e4-ea76-99c3ebeddd5c"
      },
      "source": [
        "select_7 = select_State.groupby('State')['Total'].sum().sort_values()\n",
        "print(select_7)\n",
        "select_7.plot.bar(x='State',y='Total', figsize=(10,12), color ='y')"
      ],
      "id": "2dzTaVO3YkQF",
      "execution_count": 82,
      "outputs": [
        {
          "output_type": "stream",
          "name": "stdout",
          "text": [
            "State\n",
            "Lakshadweep              50\n",
            "Daman & Diu            1391\n",
            "Nagaland               1728\n",
            "Manipur                2102\n",
            "D & N Haveli           3430\n",
            "Mizoram                4154\n",
            "Chandigarh             5164\n",
            "Meghalaya              5415\n",
            "Arunachal Pradesh      6633\n",
            "A & N Islands          8109\n",
            "Sikkim                 9606\n",
            "Jammu & Kashmir       14821\n",
            "Goa                   17363\n",
            "Uttarakhand           18496\n",
            "Himachal Pradesh      26562\n",
            "Puducherry            32144\n",
            "Tripura               45965\n",
            "Bihar                 46214\n",
            "Punjab                46350\n",
            "Jharkhand             49720\n",
            "Delhi (Ut)            84272\n",
            "Haryana              147176\n",
            "Assam                172276\n",
            "Uttar Pradesh        233352\n",
            "Rajasthan            255134\n",
            "Odisha               267234\n",
            "Chhattisgarh         302354\n",
            "Gujarat              330858\n",
            "Madhya Pradesh       451535\n",
            "Kerala               538946\n",
            "Karnataka            734825\n",
            "Andhra Pradesh       814059\n",
            "Tamil Nadu           818691\n",
            "West Bengal          849936\n",
            "Maharashtra          901945\n",
            "Name: Total, dtype: int64\n"
          ]
        },
        {
          "output_type": "execute_result",
          "data": {
            "text/plain": [
              "<matplotlib.axes._subplots.AxesSubplot at 0x7ffa58fe6390>"
            ]
          },
          "metadata": {},
          "execution_count": 82
        },
        {
          "output_type": "display_data",
          "data": {
            "image/png": "[encoded data removed]",
            "text/plain": [
              "<Figure size 720x864 with 1 Axes>"
            ]
          },
          "metadata": {
            "needs_background": "light"
          }
        }
      ]
    }
  ]
}