{
  "nbformat": 4,
  "nbformat_minor": 5,
  "metadata": {
    "kernelspec": {
      "display_name": "Python 3",
      "language": "python",
      "name": "python3"
    },
    "language_info": {
      "codemirror_mode": {
        "name": "ipython",
        "version": 3
      },
      "file_extension": ".py",
      "mimetype": "text/x-python",
      "name": "python",
      "nbconvert_exporter": "python",
      "pygments_lexer": "ipython3",
      "version": "3.8.8"
    },
    "colab": {
      "name": "Project.ipynb",
      "provenance": [],
      "collapsed_sections": [],
      "include_colab_link": true
    }
  },
  "cells": [
    {
      "cell_type": "markdown",
      "metadata": {
        "id": "view-in-github",
        "colab_type": "text"
      },
      "source": [
        "<a href=\"https://colab.research.google.com/github/Trang000/My-Data---Python/blob/main/Project.ipynb\" target=\"_parent\"><img src=\"https://colab.research.google.com/assets/colab-badge.svg\" alt=\"Open In Colab\"/></a>"
      ]
    },
    {
      "cell_type": "code",
      "metadata": {
        "id": "fc359565"
      },
      "source": [
        "import pandas as pd\n",
        "\n",
        "import numpy as np\n",
        "import matplotlib.pyplot as plt"
      ],
      "id": "fc359565",
      "execution_count": 98,
      "outputs": []
    },
    {
      "cell_type": "code",
      "metadata": {
        "id": "eba55890"
      },
      "source": [
        "data = pd.read_csv(\"/content/SuicidesIndia.csv\")"
      ],
      "id": "eba55890",
      "execution_count": 99,
      "outputs": []
    },
    {
      "cell_type": "code",
      "metadata": {
        "id": "78a296b8",
        "colab": {
          "base_uri": "https://localhost:8080/",
          "height": 417
        },
        "outputId": "36e4f042-6072-4176-a121-8943505fc59d"
      },
      "source": [
        "data"
      ],
      "id": "78a296b8",
      "execution_count": 100,
      "outputs": [
        {
          "output_type": "execute_result",
          "data": {
            "text/html": [
              "<div>\n",
              "<style scoped>\n",
              "    .dataframe tbody tr th:only-of-type {\n",
              "        vertical-align: middle;\n",
              "    }\n",
              "\n",
              "    .dataframe tbody tr th {\n",
              "        vertical-align: top;\n",
              "    }\n",
              "\n",
              "    .dataframe thead th {\n",
              "        text-align: right;\n",
              "    }\n",
              "</style>\n",
              "<table border=\"1\" class=\"dataframe\">\n",
              "  <thead>\n",
              "    <tr style=\"text-align: right;\">\n",
              "      <th></th>\n",
              "      <th>State</th>\n",
              "      <th>Year</th>\n",
              "      <th>Type_code</th>\n",
              "      <th>Type</th>\n",
              "      <th>Gender</th>\n",
              "      <th>Age_group</th>\n",
              "      <th>Total</th>\n",
              "    </tr>\n",
              "  </thead>\n",
              "  <tbody>\n",
              "    <tr>\n",
              "      <th>0</th>\n",
              "      <td>A &amp; N Islands</td>\n",
              "      <td>2001</td>\n",
              "      <td>Causes</td>\n",
              "      <td>Illness (Aids/STD)</td>\n",
              "      <td>Female</td>\n",
              "      <td>0-14</td>\n",
              "      <td>0</td>\n",
              "    </tr>\n",
              "    <tr>\n",
              "      <th>1</th>\n",
              "      <td>A &amp; N Islands</td>\n",
              "      <td>2001</td>\n",
              "      <td>Causes</td>\n",
              "      <td>Bankruptcy or Sudden change in Economic</td>\n",
              "      <td>Female</td>\n",
              "      <td>0-14</td>\n",
              "      <td>0</td>\n",
              "    </tr>\n",
              "    <tr>\n",
              "      <th>2</th>\n",
              "      <td>A &amp; N Islands</td>\n",
              "      <td>2001</td>\n",
              "      <td>Causes</td>\n",
              "      <td>Cancellation/Non-Settlement of Marriage</td>\n",
              "      <td>Female</td>\n",
              "      <td>0-14</td>\n",
              "      <td>0</td>\n",
              "    </tr>\n",
              "    <tr>\n",
              "      <th>3</th>\n",
              "      <td>A &amp; N Islands</td>\n",
              "      <td>2001</td>\n",
              "      <td>Causes</td>\n",
              "      <td>Physical Abuse (Rape/Incest Etc.)</td>\n",
              "      <td>Female</td>\n",
              "      <td>0-14</td>\n",
              "      <td>0</td>\n",
              "    </tr>\n",
              "    <tr>\n",
              "      <th>4</th>\n",
              "      <td>A &amp; N Islands</td>\n",
              "      <td>2001</td>\n",
              "      <td>Causes</td>\n",
              "      <td>Dowry Dispute</td>\n",
              "      <td>Female</td>\n",
              "      <td>0-14</td>\n",
              "      <td>0</td>\n",
              "    </tr>\n",
              "    <tr>\n",
              "      <th>...</th>\n",
              "      <td>...</td>\n",
              "      <td>...</td>\n",
              "      <td>...</td>\n",
              "      <td>...</td>\n",
              "      <td>...</td>\n",
              "      <td>...</td>\n",
              "      <td>...</td>\n",
              "    </tr>\n",
              "    <tr>\n",
              "      <th>237514</th>\n",
              "      <td>West Bengal</td>\n",
              "      <td>2012</td>\n",
              "      <td>Social_Status</td>\n",
              "      <td>Seperated</td>\n",
              "      <td>Male</td>\n",
              "      <td>0-100+</td>\n",
              "      <td>149</td>\n",
              "    </tr>\n",
              "    <tr>\n",
              "      <th>237515</th>\n",
              "      <td>West Bengal</td>\n",
              "      <td>2012</td>\n",
              "      <td>Social_Status</td>\n",
              "      <td>Widowed/Widower</td>\n",
              "      <td>Male</td>\n",
              "      <td>0-100+</td>\n",
              "      <td>233</td>\n",
              "    </tr>\n",
              "    <tr>\n",
              "      <th>237516</th>\n",
              "      <td>West Bengal</td>\n",
              "      <td>2012</td>\n",
              "      <td>Social_Status</td>\n",
              "      <td>Married</td>\n",
              "      <td>Male</td>\n",
              "      <td>0-100+</td>\n",
              "      <td>5451</td>\n",
              "    </tr>\n",
              "    <tr>\n",
              "      <th>237517</th>\n",
              "      <td>West Bengal</td>\n",
              "      <td>2012</td>\n",
              "      <td>Social_Status</td>\n",
              "      <td>Divorcee</td>\n",
              "      <td>Male</td>\n",
              "      <td>0-100+</td>\n",
              "      <td>189</td>\n",
              "    </tr>\n",
              "    <tr>\n",
              "      <th>237518</th>\n",
              "      <td>West Bengal</td>\n",
              "      <td>2012</td>\n",
              "      <td>Social_Status</td>\n",
              "      <td>Never Married</td>\n",
              "      <td>Male</td>\n",
              "      <td>0-100+</td>\n",
              "      <td>2658</td>\n",
              "    </tr>\n",
              "  </tbody>\n",
              "</table>\n",
              "<p>237519 rows × 7 columns</p>\n",
              "</div>"
            ],
            "text/plain": [
              "                State  Year      Type_code  ...  Gender Age_group Total\n",
              "0       A & N Islands  2001         Causes  ...  Female      0-14     0\n",
              "1       A & N Islands  2001         Causes  ...  Female      0-14     0\n",
              "2       A & N Islands  2001         Causes  ...  Female      0-14     0\n",
              "3       A & N Islands  2001         Causes  ...  Female      0-14     0\n",
              "4       A & N Islands  2001         Causes  ...  Female      0-14     0\n",
              "...               ...   ...            ...  ...     ...       ...   ...\n",
              "237514    West Bengal  2012  Social_Status  ...    Male    0-100+   149\n",
              "237515    West Bengal  2012  Social_Status  ...    Male    0-100+   233\n",
              "237516    West Bengal  2012  Social_Status  ...    Male    0-100+  5451\n",
              "237517    West Bengal  2012  Social_Status  ...    Male    0-100+   189\n",
              "237518    West Bengal  2012  Social_Status  ...    Male    0-100+  2658\n",
              "\n",
              "[237519 rows x 7 columns]"
            ]
          },
          "metadata": {},
          "execution_count": 100
        }
      ]
    },
    {
      "cell_type": "code",
      "metadata": {
        "scrolled": true,
        "id": "06f84e74",
        "colab": {
          "base_uri": "https://localhost:8080/"
        },
        "outputId": "5cc2c9f9-5bc1-45ec-9377-cfb9584ac443"
      },
      "source": [
        "list(data[\"Type_code\"].unique())"
      ],
      "id": "06f84e74",
      "execution_count": 101,
      "outputs": [
        {
          "output_type": "execute_result",
          "data": {
            "text/plain": [
              "['Causes',\n",
              " 'Education_Status',\n",
              " 'Means_adopted',\n",
              " 'Professional_Profile',\n",
              " 'Social_Status']"
            ]
          },
          "metadata": {},
          "execution_count": 101
        }
      ]
    },
    {
      "cell_type": "code",
      "metadata": {
        "id": "bc0fe988"
      },
      "source": [
        "check = data[\"Type_code\"]==\"Causes\""
      ],
      "id": "bc0fe988",
      "execution_count": 102,
      "outputs": []
    },
    {
      "cell_type": "code",
      "metadata": {
        "id": "d8caf64d"
      },
      "source": [
        "data1 = data[check]"
      ],
      "id": "d8caf64d",
      "execution_count": 103,
      "outputs": []
    },
    {
      "cell_type": "code",
      "metadata": {
        "id": "a47f8ae3",
        "colab": {
          "base_uri": "https://localhost:8080/"
        },
        "outputId": "2ee06da0-9ccb-41c9-c25d-3472303f2304"
      },
      "source": [
        "list(data1[\"Type\"].unique())"
      ],
      "id": "a47f8ae3",
      "execution_count": 104,
      "outputs": [
        {
          "output_type": "execute_result",
          "data": {
            "text/plain": [
              "['Illness (Aids/STD)',\n",
              " 'Bankruptcy or Sudden change in Economic',\n",
              " 'Cancellation/Non-Settlement of Marriage',\n",
              " 'Physical Abuse (Rape/Incest Etc.)',\n",
              " 'Dowry Dispute',\n",
              " 'Family Problems',\n",
              " 'Ideological Causes/Hero Worshipping',\n",
              " 'Other Prolonged Illness',\n",
              " 'Property Dispute',\n",
              " 'Fall in Social Reputation',\n",
              " 'Illegitimate Pregnancy',\n",
              " 'Failure in Examination',\n",
              " 'Insanity/Mental Illness',\n",
              " 'Love Affairs',\n",
              " 'Professional/Career Problem',\n",
              " 'Divorce',\n",
              " 'Drug Abuse/Addiction',\n",
              " 'Not having Children(Barrenness/Impotency',\n",
              " 'Causes Not known',\n",
              " 'Unemployment',\n",
              " 'Other Causes (Please Specity)',\n",
              " 'Poverty',\n",
              " 'Death of Dear Person',\n",
              " 'Cancer',\n",
              " 'Suspected/Illicit Relation',\n",
              " 'Paralysis',\n",
              " 'Bankruptcy or Sudden change in Economic Status',\n",
              " 'Not having Children (Barrenness/Impotency']"
            ]
          },
          "metadata": {},
          "execution_count": 104
        }
      ]
    },
    {
      "cell_type": "code",
      "metadata": {
        "id": "21719432",
        "colab": {
          "base_uri": "https://localhost:8080/"
        },
        "outputId": "2fd04988-30da-4d6c-8506-8e966bb3844f"
      },
      "source": [
        "list(data[\"State\"].unique())"
      ],
      "id": "21719432",
      "execution_count": 105,
      "outputs": [
        {
          "output_type": "execute_result",
          "data": {
            "text/plain": [
              "['A & N Islands',\n",
              " 'Andhra Pradesh',\n",
              " 'Arunachal Pradesh',\n",
              " 'Assam',\n",
              " 'Bihar',\n",
              " 'Chandigarh',\n",
              " 'Chhattisgarh',\n",
              " 'D & N Haveli',\n",
              " 'Daman & Diu',\n",
              " 'Delhi (Ut)',\n",
              " 'Goa',\n",
              " 'Gujarat',\n",
              " 'Haryana',\n",
              " 'Himachal Pradesh',\n",
              " 'Jammu & Kashmir',\n",
              " 'Jharkhand',\n",
              " 'Karnataka',\n",
              " 'Kerala',\n",
              " 'Lakshadweep',\n",
              " 'Madhya Pradesh',\n",
              " 'Maharashtra',\n",
              " 'Manipur',\n",
              " 'Meghalaya',\n",
              " 'Mizoram',\n",
              " 'Nagaland',\n",
              " 'Odisha',\n",
              " 'Puducherry',\n",
              " 'Punjab',\n",
              " 'Rajasthan',\n",
              " 'Sikkim',\n",
              " 'Tamil Nadu',\n",
              " 'Total (All India)',\n",
              " 'Total (States)',\n",
              " 'Total (Uts)',\n",
              " 'Tripura',\n",
              " 'Uttar Pradesh',\n",
              " 'Uttarakhand',\n",
              " 'West Bengal']"
            ]
          },
          "metadata": {},
          "execution_count": 105
        }
      ]
    },
    {
      "cell_type": "code",
      "metadata": {
        "colab": {
          "base_uri": "https://localhost:8080/"
        },
        "id": "xYrBPGSCc7Zu",
        "outputId": "b64d44d5-68c2-4379-ab84-57bef75cdce7"
      },
      "source": [
        "list(data[\"Age_group\"].unique())"
      ],
      "id": "xYrBPGSCc7Zu",
      "execution_count": 106,
      "outputs": [
        {
          "output_type": "execute_result",
          "data": {
            "text/plain": [
              "['0-14', '15-29', '30-44', '45-59', '60+', '0-100+']"
            ]
          },
          "metadata": {},
          "execution_count": 106
        }
      ]
    },
    {
      "cell_type": "code",
      "metadata": {
        "colab": {
          "base_uri": "https://localhost:8080/"
        },
        "id": "oiqWO_cZ1Y6M",
        "outputId": "c325f7b7-47be-4f02-9a4b-3a7763fa5a2a"
      },
      "source": [
        "# Social status & Education status: 0-100+\n",
        "# ['0-14', '15-29', '30-44', '45-59', '60+', '0-100+']\n",
        "# Total (All India), Total (States), Total (Uts): Social status & Education status#\n",
        "\n",
        "\n",
        "# 1. EDUCATION STATUS OF SUICIDE INDIAN (including Males & Female: 0-100+)\n",
        "Education = data[['State','Type_code', 'Type', 'Gender', 'Total']]\n",
        "print(Education)\n"
      ],
      "id": "oiqWO_cZ1Y6M",
      "execution_count": null,
      "outputs": [
        {
          "output_type": "stream",
          "name": "stdout",
          "text": [
            "                State      Type_code  ...  Gender Total\n",
            "0       A & N Islands         Causes  ...  Female     0\n",
            "1       A & N Islands         Causes  ...  Female     0\n",
            "2       A & N Islands         Causes  ...  Female     0\n",
            "3       A & N Islands         Causes  ...  Female     0\n",
            "4       A & N Islands         Causes  ...  Female     0\n",
            "...               ...            ...  ...     ...   ...\n",
            "237514    West Bengal  Social_Status  ...    Male   149\n",
            "237515    West Bengal  Social_Status  ...    Male   233\n",
            "237516    West Bengal  Social_Status  ...    Male  5451\n",
            "237517    West Bengal  Social_Status  ...    Male   189\n",
            "237518    West Bengal  Social_Status  ...    Male  2658\n",
            "\n",
            "[237519 rows x 5 columns]\n"
          ]
        }
      ]
    },
    {
      "cell_type": "code",
      "metadata": {
        "colab": {
          "base_uri": "https://localhost:8080/"
        },
        "id": "JWzKl4rb4_FE",
        "outputId": "77517596-e090-434f-ee70-13c69d48bc38"
      },
      "source": [
        "select_Education = Education.loc[(Education['State'] == 'Total (All India)') & (Education['Type_code'] == 'Education_Status')]\n",
        "print (select_Education)"
      ],
      "id": "JWzKl4rb4_FE",
      "execution_count": null,
      "outputs": [
        {
          "output_type": "stream",
          "name": "stdout",
          "text": [
            "                    State         Type_code  ...  Gender  Total\n",
            "209476  Total (All India)  Education_Status  ...  Female   2391\n",
            "209477  Total (All India)  Education_Status  ...  Female    294\n",
            "209478  Total (All India)  Education_Status  ...  Female   5486\n",
            "209479  Total (All India)  Education_Status  ...  Female  12817\n",
            "209480  Total (All India)  Education_Status  ...  Female    192\n",
            "...                   ...               ...  ...     ...    ...\n",
            "209773  Total (All India)  Education_Status  ...    Male    562\n",
            "209774  Total (All India)  Education_Status  ...    Male   3072\n",
            "209775  Total (All India)  Education_Status  ...    Male   1391\n",
            "209776  Total (All India)  Education_Status  ...    Male  20748\n",
            "209777  Total (All India)  Education_Status  ...    Male  17692\n",
            "\n",
            "[192 rows x 5 columns]\n"
          ]
        }
      ]
    },
    {
      "cell_type": "code",
      "metadata": {
        "colab": {
          "base_uri": "https://localhost:8080/"
        },
        "id": "mXjE585j7iZc",
        "outputId": "93786415-522d-4594-e13d-a33d245e6ab5"
      },
      "source": [
        "select_1 = select_Education.groupby('Type')['Total'].sum()\n",
        "print(select_1)"
      ],
      "id": "mXjE585j7iZc",
      "execution_count": null,
      "outputs": [
        {
          "output_type": "stream",
          "name": "stdout",
          "text": [
            "Type\n",
            "Diploma                                      14153\n",
            "Graduate                                     31274\n",
            "Hr. Secondary/Intermediate/Pre-Universit    118908\n",
            "Matriculate/Secondary                       256566\n",
            "Middle                                      342971\n",
            "No Education                                321757\n",
            "Post Graduate and Above                       7475\n",
            "Primary                                     362827\n",
            "Name: Total, dtype: int64\n"
          ]
        }
      ]
    },
    {
      "cell_type": "code",
      "metadata": {
        "colab": {
          "base_uri": "https://localhost:8080/",
          "height": 492
        },
        "id": "KmjUumkK8eFs",
        "outputId": "0f397099-ab12-4fc4-ea5e-6dc57aa372d0"
      },
      "source": [
        "select_1.plot.bar(x='Type',y='Total', rot=90, color ='g')"
      ],
      "id": "KmjUumkK8eFs",
      "execution_count": null,
      "outputs": [
        {
          "output_type": "execute_result",
          "data": {
            "text/plain": [
              "<matplotlib.axes._subplots.AxesSubplot at 0x7ffb6643d3d0>"
            ]
          },
          "metadata": {},
          "execution_count": 79
        },
        {
          "output_type": "display_data",
          "data": {
            "image/png": "[encoded data removed]",
            "text/plain": [
              "<Figure size 432x288 with 1 Axes>"
            ]
          },
          "metadata": {
            "needs_background": "light"
          }
        }
      ]
    },
    {
      "cell_type": "code",
      "metadata": {
        "colab": {
          "base_uri": "https://localhost:8080/",
          "height": 363
        },
        "id": "QP390OWd_jPE",
        "outputId": "22a9cac5-a628-45a3-88c5-2817c7d7031e"
      },
      "source": [
        "# 2. EDUCATION STATUS OF SUICIDE INDIAN (comparing Males & Female: 0-100+)\n",
        "select_2 = select_Education.groupby('Gender')['Total'].sum()\n",
        "print(select_2)\n",
        "select_2.plot.bar(x='Gender',y='Total', color ='r', align ='center', edgecolor='black', linewidth=5)\n",
        "plt.xticks(rotation = 360)"
      ],
      "id": "QP390OWd_jPE",
      "execution_count": null,
      "outputs": [
        {
          "output_type": "stream",
          "name": "stdout",
          "text": [
            "Gender\n",
            "Female    524013\n",
            "Male      931918\n",
            "Name: Total, dtype: int64\n"
          ]
        },
        {
          "output_type": "execute_result",
          "data": {
            "text/plain": [
              "(array([0, 1]), <a list of 2 Text major ticklabel objects>)"
            ]
          },
          "metadata": {},
          "execution_count": 86
        },
        {
          "output_type": "display_data",
          "data": {
            "image/png": "[encoded data removed]",
            "text/plain": [
              "<Figure size 432x288 with 1 Axes>"
            ]
          },
          "metadata": {
            "needs_background": "light"
          }
        }
      ]
    },
    {
      "cell_type": "code",
      "metadata": {
        "colab": {
          "base_uri": "https://localhost:8080/"
        },
        "id": "06jnYcrMCvDf",
        "outputId": "2d2354fc-3d3d-4232-86fb-da3ee4742abe"
      },
      "source": [
        " # 3. SOCIAL STATUS OF SUICIDE INDIAN ((including Males & Female: 0-100+))\n",
        "select_Social = Education.loc[(Education['State'] == 'Total (All India)') & (Education['Type_code'] == 'Social_Status')]\n",
        "print (select_Social)"
      ],
      "id": "06jnYcrMCvDf",
      "execution_count": null,
      "outputs": [
        {
          "output_type": "stream",
          "name": "stdout",
          "text": [
            "                    State      Type_code             Type  Gender  Total\n",
            "209492  Total (All India)  Social_Status          Married  Female  28281\n",
            "209493  Total (All India)  Social_Status    Never Married  Female   9583\n",
            "209494  Total (All India)  Social_Status        Seperated  Female   1137\n",
            "209495  Total (All India)  Social_Status  Widowed/Widower  Female   2548\n",
            "209496  Total (All India)  Social_Status         Divorcee  Female    643\n",
            "...                   ...            ...              ...     ...    ...\n",
            "209783  Total (All India)  Social_Status          Married    Male  63343\n",
            "209784  Total (All India)  Social_Status    Never Married    Male  19727\n",
            "209785  Total (All India)  Social_Status         Divorcee    Male    682\n",
            "209786  Total (All India)  Social_Status        Seperated    Male   2043\n",
            "209787  Total (All India)  Social_Status  Widowed/Widower    Male   2658\n",
            "\n",
            "[120 rows x 5 columns]\n"
          ]
        }
      ]
    },
    {
      "cell_type": "code",
      "metadata": {
        "colab": {
          "base_uri": "https://localhost:8080/"
        },
        "id": "VpZaPqKYEBCO",
        "outputId": "8379ab97-a4c5-4d60-989f-656ea2983bda"
      },
      "source": [
        "select_3 = select_Social.groupby('Type')['Total'].sum()\n",
        "print(select_3)"
      ],
      "id": "VpZaPqKYEBCO",
      "execution_count": null,
      "outputs": [
        {
          "output_type": "stream",
          "name": "stdout",
          "text": [
            "Type\n",
            "Divorcee             15272\n",
            "Married            1021774\n",
            "Never Married       318301\n",
            "Seperated            38471\n",
            "Widowed/Widower      62113\n",
            "Name: Total, dtype: int64\n"
          ]
        }
      ]
    },
    {
      "cell_type": "code",
      "metadata": {
        "colab": {
          "base_uri": "https://localhost:8080/",
          "height": 389
        },
        "id": "eorVheorEMrM",
        "outputId": "356deec1-997b-4b2a-d3ad-d0345ab02b19"
      },
      "source": [
        "select_3.plot.bar(x='Type',y='Total', rot=90, color ='y')"
      ],
      "id": "eorVheorEMrM",
      "execution_count": null,
      "outputs": [
        {
          "output_type": "execute_result",
          "data": {
            "text/plain": [
              "<matplotlib.axes._subplots.AxesSubplot at 0x7ffb660fa550>"
            ]
          },
          "metadata": {},
          "execution_count": 90
        },
        {
          "output_type": "display_data",
          "data": {
            "image/png": "[encoded data removed]",
            "text/plain": [
              "<Figure size 432x288 with 1 Axes>"
            ]
          },
          "metadata": {
            "needs_background": "light"
          }
        }
      ]
    },
    {
      "cell_type": "code",
      "metadata": {
        "colab": {
          "base_uri": "https://localhost:8080/",
          "height": 363
        },
        "id": "b_OxW58HEfVs",
        "outputId": "5cb87822-68f4-4747-8b5b-2bd51ef0b3b0"
      },
      "source": [
        "# 4. SOCIAL STATUS OF SUICIDE INDIAN (comparing Males & Female: 0-100+)\n",
        "select_4 = select_Social.groupby('Gender')['Total'].sum()\n",
        "print(select_4)\n",
        "select_4.plot.bar(x='Gender',y='Total', color ='r', align ='center', edgecolor='black', linewidth=5)\n",
        "plt.xticks(rotation = 360)"
      ],
      "id": "b_OxW58HEfVs",
      "execution_count": null,
      "outputs": [
        {
          "output_type": "stream",
          "name": "stdout",
          "text": [
            "Gender\n",
            "Female    524013\n",
            "Male      931918\n",
            "Name: Total, dtype: int64\n"
          ]
        },
        {
          "output_type": "execute_result",
          "data": {
            "text/plain": [
              "(array([0, 1]), <a list of 2 Text major ticklabel objects>)"
            ]
          },
          "metadata": {},
          "execution_count": 91
        },
        {
          "output_type": "display_data",
          "data": {
            "image/png": "[encoded data removed]",
            "text/plain": [
              "<Figure size 432x288 with 1 Axes>"
            ]
          },
          "metadata": {
            "needs_background": "light"
          }
        }
      ]
    },
    {
      "cell_type": "code",
      "metadata": {
        "colab": {
          "base_uri": "https://localhost:8080/"
        },
        "id": "GZMDjpqiLkMI",
        "outputId": "c87d9695-98c2-49ed-d807-f3f6c9971a2d"
      },
      "source": [
        "stage = data.loc[data['Type_code'] == 'Causes']\n",
        "print(stage)\n"
      ],
      "id": "GZMDjpqiLkMI",
      "execution_count": 117,
      "outputs": [
        {
          "output_type": "stream",
          "name": "stdout",
          "text": [
            "                State  Year Type_code  ...  Gender Age_group Total\n",
            "0       A & N Islands  2001    Causes  ...  Female      0-14     0\n",
            "1       A & N Islands  2001    Causes  ...  Female      0-14     0\n",
            "2       A & N Islands  2001    Causes  ...  Female      0-14     0\n",
            "3       A & N Islands  2001    Causes  ...  Female      0-14     0\n",
            "4       A & N Islands  2001    Causes  ...  Female      0-14     0\n",
            "...               ...   ...       ...  ...     ...       ...   ...\n",
            "237218    West Bengal  2012    Causes  ...    Male       60+     0\n",
            "237219    West Bengal  2012    Causes  ...    Male       60+     0\n",
            "237220    West Bengal  2012    Causes  ...    Male       60+     0\n",
            "237221    West Bengal  2012    Causes  ...    Male       60+     0\n",
            "237222    West Bengal  2012    Causes  ...    Male       60+     0\n",
            "\n",
            "[109200 rows x 7 columns]\n"
          ]
        }
      ]
    },
    {
      "cell_type": "code",
      "metadata": {
        "colab": {
          "base_uri": "https://localhost:8080/",
          "height": 322
        },
        "id": "3ynlV7mGX4hE",
        "outputId": "ab958137-d4f7-415b-ad0d-a2d86d8a36db"
      },
      "source": [
        "select_5 = stage.groupby('Gender')['Total'].sum()\n",
        "select_5.plot.bar(x='Causes',y='Total', rot=90)\n"
      ],
      "id": "3ynlV7mGX4hE",
      "execution_count": 120,
      "outputs": [
        {
          "output_type": "execute_result",
          "data": {
            "text/plain": [
              "<matplotlib.axes._subplots.AxesSubplot at 0x7ffb65a8d550>"
            ]
          },
          "metadata": {},
          "execution_count": 120
        },
        {
          "output_type": "display_data",
          "data": {
            "image/png": "[encoded data removed]",
            "text/plain": [
              "<Figure size 432x288 with 1 Axes>"
            ]
          },
          "metadata": {
            "needs_background": "light"
          }
        }
      ]
    },
    {
      "cell_type": "code",
      "metadata": {
        "colab": {
          "base_uri": "https://localhost:8080/",
          "height": 971
        },
        "id": "dI9292TKbW-Y",
        "outputId": "0160bcdd-c730-481c-df43-3fec54a52c38"
      },
      "source": [
        "select_6 = stage.groupby('Type')['Total'].sum()\n",
        "select_6.plot.bar(x='Type',y='Total', figsize=(10,12))"
      ],
      "id": "dI9292TKbW-Y",
      "execution_count": 139,
      "outputs": [
        {
          "output_type": "execute_result",
          "data": {
            "text/plain": [
              "<matplotlib.axes._subplots.AxesSubplot at 0x7ffb653d1390>"
            ]
          },
          "metadata": {},
          "execution_count": 139
        },
        {
          "output_type": "display_data",
          "data": {
            "image/png": "[encoded data removed]",
            "text/plain": [
              "<Figure size 720x864 with 1 Axes>"
            ]
          },
          "metadata": {
            "needs_background": "light"
          }
        }
      ]
    }
  ]
}